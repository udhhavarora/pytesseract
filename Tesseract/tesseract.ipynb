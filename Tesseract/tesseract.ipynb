{
 "cells": [
  {
   "cell_type": "code",
   "execution_count": 14,
   "metadata": {},
   "outputs": [],
   "source": [
    "import pytesseract\n",
    "pytesseract.pytesseract.tesseract_cmd = r'C:\\Program Files\\Tesseract-OCR\\tesseract.exe'"
   ]
  },
  {
   "cell_type": "code",
   "execution_count": 15,
   "metadata": {},
   "outputs": [],
   "source": [
    "import cv2"
   ]
  },
  {
   "cell_type": "code",
   "execution_count": 22,
   "metadata": {},
   "outputs": [],
   "source": [
    "img = cv2.imread('VfDfJ.png')\n",
    "cv2.imshow('Sample Image',img)\n",
    "cv2.waitKey(0)\n",
    "cv2.destroyAllWindows()"
   ]
  },
  {
   "cell_type": "code",
   "execution_count": 23,
   "metadata": {},
   "outputs": [
    {
     "name": "stdout",
     "output_type": "stream",
     "text": [
      "Concrete\n",
      "Design\n",
      "Excavation\n",
      "Golf Course\n",
      "Installation\n",
      "Irrigation\n",
      "Maintenance\n",
      "Water Features\n",
      "\n",
      "Bratt, Inc.\n",
      "\n",
      "754 W. 700 S. Pleasant Grove, Utah 84062\n",
      "UT. Co. (801) 785-8011 SL. Co. (801) 562-2677\n",
      "\n",
      " \n",
      "\n",
      " \n",
      " \n",
      "\n",
      "Darren Wilson\n",
      "\n",
      "Landscape Architect\n",
      "\n",
      "Cell (801) 592-4808\n",
      "\n",
      "Toll Free (866) 889-8011 ext. 010\n",
      "Fax (801) 785-8012\n",
      "\n",
      "E-mail dwilson @brattinc.com\n",
      "Web www. brattinc.com\n"
     ]
    }
   ],
   "source": [
    "text = pytesseract.image_to_string(img)\n",
    "print(text)"
   ]
  },
  {
   "cell_type": "code",
   "execution_count": null,
   "metadata": {},
   "outputs": [],
   "source": []
  }
 ],
 "metadata": {
  "kernelspec": {
   "display_name": "Python 3",
   "language": "python",
   "name": "python3"
  },
  "language_info": {
   "codemirror_mode": {
    "name": "ipython",
    "version": 3
   },
   "file_extension": ".py",
   "mimetype": "text/x-python",
   "name": "python",
   "nbconvert_exporter": "python",
   "pygments_lexer": "ipython3",
   "version": "3.6.8"
  }
 },
 "nbformat": 4,
 "nbformat_minor": 2
}
